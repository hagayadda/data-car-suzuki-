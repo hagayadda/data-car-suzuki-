{
 "cells": [
  {
   "cell_type": "markdown",
   "id": "64673663",
   "metadata": {},
   "source": [
    "<div style=\"text-align:center;\">\n",
    "<h2> מטלת סיכום 1 </h2>\n",
    "</div>\n",
    "<p>  חגי עדה - 206764060</p>\n",
    "<p>  תומר רבאני - 312412612</p>\n",
    "<p> Link GitHub-('https://github.com/hagayadda/data-car-suzuki-') </p>"
   ]
  },
  {
   "cell_type": "code",
   "execution_count": 891,
   "id": "340f5a35",
   "metadata": {},
   "outputs": [],
   "source": [
    "import requests\n",
    "from bs4 import BeautifulSoup\n",
    "from datetime import datetime"
   ]
  },
  {
   "cell_type": "code",
   "execution_count": 892,
   "id": "09ada973",
   "metadata": {},
   "outputs": [
    {
     "name": "stdout",
     "output_type": "stream",
     "text": [
      "Success\n"
     ]
    }
   ],
   "source": [
    "url = \"https://www.ad.co.il/car?keyword=%D7%A1%D7%95%D7%96%D7%95%D7%A7%D7%99\"\n",
    "headers = {'User-Agent': 'Mozilla/5.0 (Windows NT 10.0) AppleWebKit/537.36 (KHTML, like Gecko) Chrome/113.0.0.0 Safari/537.36'} # This is chrome, you can set whatever browser you like\n",
    "\n",
    "response = requests.get(url,headers= headers)\n",
    "if response.status_code == 200:\n",
    "        print(\"Success\")\n",
    "else:\n",
    "    print(\"Failure\")"
   ]
  },
  {
   "cell_type": "markdown",
   "id": "dd305a2c",
   "metadata": {},
   "source": [
    "## First function\n",
    "### A function in which the composition name incorporates its URL"
   ]
  },
  {
   "cell_type": "code",
   "execution_count": 893,
   "id": "2901f3e3",
   "metadata": {},
   "outputs": [],
   "source": [
    "def get_car_suzuki(keywords):\n",
    "    import requests\n",
    "    from bs4 import BeautifulSoup\n",
    "    car_suzuki_list = []\n",
    "    for i in keywords:\n",
    "        url = \"https://www.ad.co.il/car?keyword=\" + i\n",
    "        response = requests.get(url)\n",
    "        if not response.status_code == 200:\n",
    "            print(\"not 200\")\n",
    "            return None\n",
    "        try:\n",
    "            results_page = BeautifulSoup(response.content, 'html.parser')\n",
    "            car_suzuki = results_page.find_all('div', {'class': 'card overflow-hidden'})\n",
    "            for car_suzuki in car_suzuki:\n",
    "                car_suzuki_link = \"https://www.ad.co.il\" + car_suzuki.find('a').get('href')\n",
    "                car_suzuki_name = car_suzuki.find('a').get_text().strip()\n",
    "                # בדיקה אם המילה הראשונה היא \"סוזוקי\"\n",
    "                if car_suzuki_name.split()[0] == \"סוזוקי\":\n",
    "                    car_suzuki_list.append((car_suzuki_name, car_suzuki_link)) \n",
    "        except Exception as e:\n",
    "            print(f\"An error occurred: {e}\")\n",
    "            continue  \n",
    "    return car_suzuki_list"
   ]
  },
  {
   "cell_type": "code",
   "execution_count": 894,
   "id": "1d07c073",
   "metadata": {
    "scrolled": false
   },
   "outputs": [
    {
     "data": {
      "text/plain": [
       "[('סוזוקי סוויפט', 'https://www.ad.co.il/ad/16186160'),\n",
       " ('סוזוקי SX4', 'https://www.ad.co.il/ad/16137904'),\n",
       " ('סוזוקי סוויפט', 'https://www.ad.co.il/ad/16110955'),\n",
       " ('סוזוקי סלריו', 'https://www.ad.co.il/ad/16046852'),\n",
       " ('סוזוקי SX4 קרוסאובר', 'https://www.ad.co.il/ad/16053812'),\n",
       " ('סוזוקי איגניס', 'https://www.ad.co.il/ad/16025472'),\n",
       " ('סוזוקי SX4 קרוסאובר', 'https://www.ad.co.il/ad/15945150'),\n",
       " ('סוזוקי סוויפט', 'https://www.ad.co.il/ad/15931503'),\n",
       " ('סוזוקי SX4 קרוסאובר', 'https://www.ad.co.il/ad/15895022'),\n",
       " ('סוזוקי סוויפט', 'https://www.ad.co.il/ad/15885467'),\n",
       " ('סוזוקי איגניס', 'https://www.ad.co.il/ad/15790575'),\n",
       " ('סוזוקי SX4 קרוסאובר', 'https://www.ad.co.il/ad/15780352'),\n",
       " ('סוזוקי סוויפט', 'https://www.ad.co.il/ad/15789134'),\n",
       " ('סוזוקי אלטו', 'https://www.ad.co.il/ad/15741326'),\n",
       " ('סוזוקי אלטו', 'https://www.ad.co.il/ad/15729173'),\n",
       " ('סוזוקי SX4', 'https://www.ad.co.il/ad/15617119'),\n",
       " ('סוזוקי ליאנה', 'https://www.ad.co.il/ad/15486132'),\n",
       " ('סוזוקי ליאנה', 'https://www.ad.co.il/ad/14978314'),\n",
       " ('סוזוקי SX4 קרוסאובר', 'https://www.ad.co.il/ad/15080161'),\n",
       " ('סוזוקי אלטו', 'https://www.ad.co.il/ad/14908931'),\n",
       " ('סוזוקי SX4', 'https://www.ad.co.il/ad/14810811'),\n",
       " ('סוזוקי אלטו', 'https://www.ad.co.il/ad/14679858'),\n",
       " ('סוזוקי קרוסאובר', 'https://www.ad.co.il/ad/14671196'),\n",
       " ('סוזוקי סוויפט', 'https://www.ad.co.il/ad/14664056'),\n",
       " ('סוזוקי סוויפט', 'https://www.ad.co.il/ad/14664055'),\n",
       " ('סוזוקי ספלאש', 'https://www.ad.co.il/ad/14660525'),\n",
       " ('סוזוקי סלריו', 'https://www.ad.co.il/ad/14631980'),\n",
       " ('סוזוקי סוויפט', 'https://www.ad.co.il/ad/14622275'),\n",
       " ('סוזוקי SX4', 'https://www.ad.co.il/ad/14622280'),\n",
       " ('סוזוקי אלטו', 'https://www.ad.co.il/ad/14617901'),\n",
       " ('סוזוקי SX4', 'https://www.ad.co.il/ad/14614283'),\n",
       " ('סוזוקי איגניס', 'https://www.ad.co.il/ad/14599031'),\n",
       " ('סוזוקי בלנו', 'https://www.ad.co.il/ad/14594724'),\n",
       " ('סוזוקי SX4', 'https://www.ad.co.il/ad/14570576'),\n",
       " ('סוזוקי קרוסאובר', 'https://www.ad.co.il/ad/14552790'),\n",
       " ('סוזוקי בלנו', 'https://www.ad.co.il/ad/14549292'),\n",
       " ('סוזוקי SX4', 'https://www.ad.co.il/ad/14544227'),\n",
       " ('סוזוקי קרוסאובר', 'https://www.ad.co.il/ad/14538033'),\n",
       " ('סוזוקי איגניס', 'https://www.ad.co.il/ad/14530832'),\n",
       " ('סוזוקי קרוסאובר', 'https://www.ad.co.il/ad/14505618'),\n",
       " ('סוזוקי סוויפט', 'https://www.ad.co.il/ad/14489934'),\n",
       " ('סוזוקי סדן', 'https://www.ad.co.il/ad/14489922'),\n",
       " ('סוזוקי סוויפט', 'https://www.ad.co.il/ad/14489923'),\n",
       " ('סוזוקי סוויפט החדשה', 'https://www.ad.co.il/ad/14489929'),\n",
       " ('סוזוקי SX4', 'https://www.ad.co.il/ad/14486302'),\n",
       " ('סוזוקי אלטו', 'https://www.ad.co.il/ad/14481340'),\n",
       " ('סוזוקי SX4', 'https://www.ad.co.il/ad/14466102'),\n",
       " ('סוזוקי קרוסאובר', 'https://www.ad.co.il/ad/14463789'),\n",
       " ('סוזוקי איגניס', 'https://www.ad.co.il/ad/14460514'),\n",
       " ('סוזוקי SX4', 'https://www.ad.co.il/ad/14439024'),\n",
       " ('סוזוקי קרוסאובר', 'https://www.ad.co.il/ad/14436362'),\n",
       " ('סוזוקי אלטו', 'https://www.ad.co.il/ad/14424776'),\n",
       " ('סוזוקי סוויפט', 'https://www.ad.co.il/ad/14414763'),\n",
       " ('סוזוקי אלטו', 'https://www.ad.co.il/ad/14414770'),\n",
       " ('סוזוקי סוויפט', 'https://www.ad.co.il/ad/14408563'),\n",
       " ('סוזוקי סוויפט החדשה', 'https://www.ad.co.il/ad/14408573'),\n",
       " ('סוזוקי סוויפט החדשה', 'https://www.ad.co.il/ad/14401677'),\n",
       " ('סוזוקי סוויפט', 'https://www.ad.co.il/ad/14399053'),\n",
       " ('סוזוקי סוויפט', 'https://www.ad.co.il/ad/14374414'),\n",
       " ('סוזוקי ספלאש', 'https://www.ad.co.il/ad/14374394'),\n",
       " ('סוזוקי קרוסאובר', 'https://www.ad.co.il/ad/14371558'),\n",
       " ('סוזוקי קרוסאובר', 'https://www.ad.co.il/ad/14368430'),\n",
       " ('סוזוקי סוויפט', 'https://www.ad.co.il/ad/14368403'),\n",
       " ('סוזוקי אלטו', 'https://www.ad.co.il/ad/14344851'),\n",
       " ('סוזוקי קרוסאובר', 'https://www.ad.co.il/ad/14344831'),\n",
       " ('סוזוקי SX4', 'https://www.ad.co.il/ad/14329620'),\n",
       " ('סוזוקי בלנו', 'https://www.ad.co.il/ad/14320679'),\n",
       " ('סוזוקי בלנו', 'https://www.ad.co.il/ad/14315141'),\n",
       " ('סוזוקי SX4', 'https://www.ad.co.il/ad/14315143'),\n",
       " ('סוזוקי סלריו', 'https://www.ad.co.il/ad/14289712'),\n",
       " ('סוזוקי SX4', 'https://www.ad.co.il/ad/14289707'),\n",
       " ('סוזוקי סלריו', 'https://www.ad.co.il/ad/14280690'),\n",
       " ('סוזוקי אלטו', 'https://www.ad.co.il/ad/14276944'),\n",
       " ('סוזוקי איגניס', 'https://www.ad.co.il/ad/14241383'),\n",
       " ('סוזוקי אלטו', 'https://www.ad.co.il/ad/14198877'),\n",
       " ('סוזוקי SX4', 'https://www.ad.co.il/ad/14192201'),\n",
       " ('סוזוקי SX4', 'https://www.ad.co.il/ad/14192181'),\n",
       " ('סוזוקי סוויפט', 'https://www.ad.co.il/ad/14180910'),\n",
       " ('סוזוקי קרוסאובר', 'https://www.ad.co.il/ad/14180917'),\n",
       " ('סוזוקי קרוסאובר', 'https://www.ad.co.il/ad/14177735'),\n",
       " ('סוזוקי אלטו', 'https://www.ad.co.il/ad/14178479'),\n",
       " ('סוזוקי קרוסאובר', 'https://www.ad.co.il/ad/14147943'),\n",
       " ('סוזוקי ליאנה', 'https://www.ad.co.il/ad/14115684'),\n",
       " ('סוזוקי SX4', 'https://www.ad.co.il/ad/14098064'),\n",
       " ('סוזוקי אלטו', 'https://www.ad.co.il/ad/14091611'),\n",
       " ('סוזוקי סוויפט', 'https://www.ad.co.il/ad/14038049'),\n",
       " ('סוזוקי קרוסאובר', 'https://www.ad.co.il/ad/13974648'),\n",
       " ('סוזוקי קרוסאובר', 'https://www.ad.co.il/ad/13951580'),\n",
       " ('סוזוקי סלריו', 'https://www.ad.co.il/ad/13938149'),\n",
       " ('סוזוקי קרוסאובר', 'https://www.ad.co.il/ad/13914010'),\n",
       " ('סוזוקי סוויפט', 'https://www.ad.co.il/ad/13879419'),\n",
       " ('סוזוקי קרוסאובר', 'https://www.ad.co.il/ad/13872853'),\n",
       " ('סוזוקי בלנו', 'https://www.ad.co.il/ad/13851337'),\n",
       " ('סוזוקי SX4 קרוסאובר', 'https://www.ad.co.il/ad/16027791'),\n",
       " ('סוזוקי SX4', 'https://www.ad.co.il/ad/13819321'),\n",
       " ('סוזוקי ספלאש', 'https://www.ad.co.il/ad/13785697'),\n",
       " ('סוזוקי קרוסאובר', 'https://www.ad.co.il/ad/13773873'),\n",
       " ('סוזוקי קרוסאובר', 'https://www.ad.co.il/ad/13773875'),\n",
       " ('סוזוקי איגניס', 'https://www.ad.co.il/ad/13768771'),\n",
       " ('סוזוקי אלטו', 'https://www.ad.co.il/ad/13752141'),\n",
       " ('סוזוקי בלנו', 'https://www.ad.co.il/ad/13740549'),\n",
       " ('סוזוקי SX4', 'https://www.ad.co.il/ad/13740539'),\n",
       " ('סוזוקי SX4', 'https://www.ad.co.il/ad/13737264'),\n",
       " ('סוזוקי אלטו', 'https://www.ad.co.il/ad/13733083'),\n",
       " ('סוזוקי בלנו', 'https://www.ad.co.il/ad/13728584'),\n",
       " ('סוזוקי קרוסאובר', 'https://www.ad.co.il/ad/13725263'),\n",
       " ('סוזוקי SX4', 'https://www.ad.co.il/ad/13725266'),\n",
       " ('סוזוקי SX4', 'https://www.ad.co.il/ad/13716980'),\n",
       " ('סוזוקי ליאנה', 'https://www.ad.co.il/ad/13711761'),\n",
       " ('סוזוקי ליאנה', 'https://www.ad.co.il/ad/13437179'),\n",
       " ('סוזוקי אלטו', 'https://www.ad.co.il/ad/13332901'),\n",
       " ('סוזוקי אלטו', 'https://www.ad.co.il/ad/13023827'),\n",
       " ('סוזוקי סוויפט', 'https://www.ad.co.il/ad/12998290'),\n",
       " ('סוזוקי אלטו', 'https://www.ad.co.il/ad/12968117'),\n",
       " ('סוזוקי איגניס', 'https://www.ad.co.il/ad/15824606'),\n",
       " ('סוזוקי סוויפט', 'https://www.ad.co.il/ad/14424483'),\n",
       " ('סוזוקי סוויפט', 'https://www.ad.co.il/ad/14652232'),\n",
       " ('סוזוקי יורו', 'https://www.ad.co.il/ad/14679849'),\n",
       " ('סוזוקי סדן', 'https://www.ad.co.il/ad/14674993'),\n",
       " ('סוזוקי בלנו', 'https://www.ad.co.il/ad/14664067'),\n",
       " ('סוזוקי וואגון', 'https://www.ad.co.il/ad/14631976'),\n",
       " ('סוזוקי וואגון', 'https://www.ad.co.il/ad/14631979'),\n",
       " ('סוזוקי קרוסאובר', 'https://www.ad.co.il/ad/14481307'),\n",
       " ('סוזוקי קרוסאובר', 'https://www.ad.co.il/ad/14466116'),\n",
       " ('סוזוקי ספלאש', 'https://www.ad.co.il/ad/14445199'),\n",
       " ('סוזוקי קרוסאובר', 'https://www.ad.co.il/ad/14418774'),\n",
       " ('סוזוקי SX4', 'https://www.ad.co.il/ad/14414767'),\n",
       " ('סוזוקי SX4', 'https://www.ad.co.il/ad/14401667'),\n",
       " ('סוזוקי איגניס', 'https://www.ad.co.il/ad/14380449'),\n",
       " ('סוזוקי SX4', 'https://www.ad.co.il/ad/14325152'),\n",
       " ('סוזוקי קרוסאובר', 'https://www.ad.co.il/ad/14315157'),\n",
       " ('סוזוקי בלנו', 'https://www.ad.co.il/ad/14303904'),\n",
       " ('סוזוקי סוויפט', 'https://www.ad.co.il/ad/14289702'),\n",
       " ('סוזוקי סלריו', 'https://www.ad.co.il/ad/14247150'),\n",
       " ('סוזוקי קרוסאובר', 'https://www.ad.co.il/ad/14227649'),\n",
       " ('סוזוקי SX4', 'https://www.ad.co.il/ad/14222830'),\n",
       " ('סוזוקי SX4', 'https://www.ad.co.il/ad/14206563'),\n",
       " ('סוזוקי קרוסאובר', 'https://www.ad.co.il/ad/14153719'),\n",
       " ('סוזוקי קרוסאובר', 'https://www.ad.co.il/ad/14091625'),\n",
       " ('סוזוקי SX4', 'https://www.ad.co.il/ad/13951579'),\n",
       " ('סוזוקי SX4', 'https://www.ad.co.il/ad/13839305'),\n",
       " ('סוזוקי SX4', 'https://www.ad.co.il/ad/13819282'),\n",
       " ('סוזוקי SX4', 'https://www.ad.co.il/ad/13756719'),\n",
       " ('סוזוקי סוויפט החדשה', 'https://www.ad.co.il/ad/13721728'),\n",
       " ('סוזוקי ספלאש', 'https://www.ad.co.il/ad/13551886')]"
      ]
     },
     "execution_count": 894,
     "metadata": {},
     "output_type": "execute_result"
    }
   ],
   "source": [
    "get_car_suzuki([\"סוזוקי\",\"סוזוקי&pageindex=2\",\"סוזוקי&pageindex=3\",\"סוזוקי&pageindex=4\"])"
   ]
  },
  {
   "cell_type": "markdown",
   "id": "828a568b",
   "metadata": {},
   "source": [
    "## Second function\n",
    "### This function bundles the data for each car"
   ]
  },
  {
   "cell_type": "code",
   "execution_count": 895,
   "id": "f5f61eb0",
   "metadata": {},
   "outputs": [],
   "source": [
    "def get_recipe_info(recipe_link):\n",
    "    car_suzuki_dict = {}\n",
    "    import math\n",
    "    import re \n",
    "    from datetime import datetime\n",
    "    import requests\n",
    "    from bs4 import BeautifulSoup\n",
    "    try:\n",
    "        response = requests.get(recipe_link)\n",
    "        if not response.status_code == 200:\n",
    "            return car_suzuki_dict\n",
    "        result_page = BeautifulSoup(response.content, 'html.parser')\n",
    "        Car_date=list()\n",
    "        Price_car=list()\n",
    "        for date in result_page.find_all('div',class_='px-3'):\n",
    "            Car_date.append(date.get_text())\n",
    "        model = result_page.find('h2',class_='card-title')\n",
    "        Price_car_str = result_page.find('h2', class_='card-title').find_next('h2', class_='card-title').get_text()\n",
    "        cleaned_price_str = Price_car_str.replace(',', '').replace('₪', '').strip()\n",
    "        Price_car = int(cleaned_price_str) if cleaned_price_str.isdigit() else None \n",
    "        if Price_car is not None:\n",
    "            Price = Price_car\n",
    "        else:\n",
    "            Price = None\n",
    "        ditels = result_page.find('table',class_='table table-sm mb-4').get_text().replace('\\n \\r', '')\n",
    "        Pic_num=result_page.find('div',class_='swiper-wrapper swiper-no-swiping')\n",
    "        Cre_date= re.search(r':\\s+(\\S+)', Car_date[1]).group(1) if len(Car_date) > 1 and re.search(r':\\s+(\\S+)', Car_date[1]) else None\n",
    "        Cre_date=datetime.strptime(Cre_date, '%d/%m/%Y')\n",
    "        Repub_date=  re.search(r':\\s+(\\S+)', Car_date[0]).group(1) if len(Car_date) > 0 and re.search(r':\\s+(\\S+)', Car_date[0]) else None\n",
    "        Repub_date=datetime.strptime(Repub_date, '%d/%m/%Y')\n",
    "        \n",
    "        car_suzuki_dict['model'] = model.get_text() if model else None\n",
    "        car_suzuki_dict['Year'] = int(re.search(r'שנה\\s+(\\S+)', ditels).group(1)) if re.search(r'שנה\\s+(\\S+)', ditels) else None\n",
    "        car_suzuki_dict['Hand'] = int(re.search(r'יד\\s+(\\S+)', ditels).group(1)) if re.search(r'יד\\s+(\\S+)', ditels) else None\n",
    "        car_suzuki_dict['Gear'] = str(re.search(r'הילוכים\\s+(\\S+)', ditels).group(1)) if re.search(r'הילוכים\\s+(\\S+)', ditels) else None\n",
    "        car_suzuki_dict['Engine_capacity'] = int(re.search(r'נפח\\s+(\\S+)', ditels).group(1).replace(',', '')) if re.search(r'נפח\\s+(\\S+)', ditels) else None\n",
    "        car_suzuki_dict['Engine_type'] = re.search(r'מנוע\\s+(\\S+)', ditels).group(1) if re.search(r'מנוע\\s+(\\S+)', ditels) else None\n",
    "        car_suzuki_dict['Prev_ownership'] = re.search(r'קודמת\\s+(\\S+)', ditels).group(1) if re.search(r'קודמת\\s+(\\S+)', ditels) else None\n",
    "        car_suzuki_dict['Curr_ownership'] = re.search(r'נוכחית\\s+(\\S+)', ditels).group(1) if re.search(r'נוכחית\\s+(\\S+)', ditels) else None\n",
    "        car_suzuki_dict['Area'] = str(re.search(r'אזור\\s+(\\S+)', ditels).group(1)) if re.search(r'אזור\\s+(\\S+)', ditels) else None\n",
    "        car_suzuki_dict['city'] = str(re.search(r'עיר\\s+(\\S+)', ditels).group(1)) if re.search(r'עיר\\s+(\\S+)', ditels) else None\n",
    "        car_suzuki_dict['Price'] = float(Price) if Price else None\n",
    "        car_suzuki_dict['Cre_date'] = Cre_date if Cre_date else None\n",
    "        car_suzuki_dict['Pic_num'] = int(math.floor(len(Pic_num.findChildren()))) if Pic_num else None\n",
    "        car_suzuki_dict['Cre_date'] = Cre_date\n",
    "        car_suzuki_dict['Repub_date'] = Repub_date\n",
    "        car_suzuki_dict['Description'] = str(result_page.find('p',class_='text-word-break').get_text().replace('\\n', ' ')) if result_page.find('p',class_='text-word-break') else None\n",
    "        car_suzuki_dict['Color'] = str(re.search(r'צבע\\s+(\\S+)', ditels).group(1)) if re.search(r'צבע\\s+(\\S+)', ditels) else None\n",
    "        car_suzuki_dict['Km'] = int(re.search(r'ק\"מ\\s+(\\S+)', ditels).group(1).replace(',', '')) if re.search(r'ק\"מ\\s+(\\S+)', ditels) else None\n",
    "        test_date_str = re.search(r'עד\\s+(\\S+)', ditels).group(1) if re.search(r'עד\\s+(\\S+)', ditels) else None\n",
    "        if test_date_str:\n",
    "            test_date = datetime.strptime(test_date_str, '%m/%Y')\n",
    "            test_date = test_date.replace(day=1)\n",
    "            today = datetime.today()\n",
    "            delta_test = test_date - today\n",
    "            car_suzuki_dict['Test'] =  int(math.floor(delta_test.days))\n",
    "        else:\n",
    "            car_suzuki_dict['Test'] = None\n",
    "\n",
    "        return car_suzuki_dict \n",
    "    except:\n",
    "        return car_suzuki_dict\n"
   ]
  },
  {
   "cell_type": "markdown",
   "id": "36eb1ea0",
   "metadata": {},
   "source": [
    "## examination"
   ]
  },
  {
   "cell_type": "code",
   "execution_count": 896,
   "id": "507dee23",
   "metadata": {},
   "outputs": [
    {
     "data": {
      "text/plain": [
       "{'model': 'סוזוקי קרוסאובר',\n",
       " 'Year': 2019,\n",
       " 'Hand': 1,\n",
       " 'Gear': 'אוטומטית',\n",
       " 'Engine_capacity': 1400,\n",
       " 'Engine_type': 'בנזין',\n",
       " 'Prev_ownership': None,\n",
       " 'Curr_ownership': None,\n",
       " 'Area': 'רעננה',\n",
       " 'city': 'כפר',\n",
       " 'Price': 100000.0,\n",
       " 'Cre_date': datetime.datetime(2022, 6, 29, 0, 0),\n",
       " 'Pic_num': None,\n",
       " 'Repub_date': datetime.datetime(2022, 6, 29, 0, 0),\n",
       " 'Description': 'מצב מעולה מטופל בזמן &lt;br/&gt;&lt;br/&gt;פירוט:&lt;br/&gt; מולטי מידיה חלונות ש\\r חשמליים סגירה אוטמטית',\n",
       " 'Color': None,\n",
       " 'Km': 43000,\n",
       " 'Test': None}"
      ]
     },
     "execution_count": 896,
     "metadata": {},
     "output_type": "execute_result"
    }
   ],
   "source": [
    "get_recipe_info('https://www.ad.co.il/ad/14091625')"
   ]
  },
  {
   "cell_type": "markdown",
   "id": "dd98ab43",
   "metadata": {},
   "source": [
    "## Third function\n",
    "### This function combines the two functions and generates one large list with all the data for each car"
   ]
  },
  {
   "cell_type": "code",
   "execution_count": 897,
   "id": "2f6648e2",
   "metadata": {},
   "outputs": [],
   "source": [
    "def get_all_car_info(keywords):\n",
    "    all_car_info = []\n",
    "    car_suzuki_list = get_car_suzuki(keywords)\n",
    "    if car_suzuki_list:\n",
    "        for car_suzuki_name, car_suzuki_link in car_suzuki_list:\n",
    "            car_info = get_recipe_info(car_suzuki_link)\n",
    "            all_car_info.append(car_info)\n",
    "    return all_car_info"
   ]
  },
  {
   "cell_type": "code",
   "execution_count": null,
   "id": "a6fcdf18",
   "metadata": {},
   "outputs": [],
   "source": [
    "suzuki_car=get_all_car_info([\"סוזוקי\",\"סוזוקי&pageindex=2\",\"סוזוקי&pageindex=3\",\"סוזוקי&pageindex=4\"])\n",
    "suzuki_car"
   ]
  },
  {
   "cell_type": "markdown",
   "id": "1564f073",
   "metadata": {},
   "source": [
    "## Create a data frame"
   ]
  },
  {
   "cell_type": "code",
   "execution_count": null,
   "id": "bbaf291a",
   "metadata": {},
   "outputs": [],
   "source": [
    "import pandas as pd\n",
    "pd.DataFrame(suzuki_car)"
   ]
  },
  {
   "cell_type": "code",
   "execution_count": null,
   "id": "f4a02493",
   "metadata": {
    "scrolled": true
   },
   "outputs": [],
   "source": [
    "pd.DataFrame(suzuki_car).head(50)"
   ]
  },
  {
   "cell_type": "markdown",
   "id": "a8c7643c",
   "metadata": {},
   "source": [
    "## Change a type for each variable"
   ]
  },
  {
   "cell_type": "code",
   "execution_count": null,
   "id": "d4ac3086",
   "metadata": {},
   "outputs": [],
   "source": [
    "df_suzuki = pd.DataFrame(suzuki_car)"
   ]
  },
  {
   "cell_type": "code",
   "execution_count": null,
   "id": "431adb34",
   "metadata": {
    "scrolled": false
   },
   "outputs": [],
   "source": [
    "df_suzuki['Year'] = df_suzuki['Year'].astype('Int64')\n",
    "df_suzuki['Hand'] = df_suzuki['Hand'].astype('Int64')\n",
    "df_suzuki['Gear'] = df_suzuki['Gear'].astype('category')\n",
    "df_suzuki['Engine_capacity'] = df_suzuki['Engine_capacity'].astype('Int64')\n",
    "df_suzuki['Engine_type'] = df_suzuki['Engine_type'].astype('category')\n",
    "df_suzuki['Prev_ownership'] = df_suzuki['Prev_ownership'].astype('category')\n",
    "df_suzuki['Curr_ownership'] = df_suzuki['Curr_ownership'].astype('category')\n",
    "df_suzuki['Area'] = df_suzuki['Area'].astype(str)\n",
    "df_suzuki['city'] = df_suzuki['city'].astype(str)\n",
    "df_suzuki['Price'] = df_suzuki['Price'].astype(float)\n",
    "df_suzuki['Pic_num'] = df_suzuki['Pic_num'].astype('Int64')\n",
    "df_suzuki['Cre_date'] = pd.to_datetime(df_suzuki['Cre_date'])\n",
    "df_suzuki['Repub_date'] = pd.to_datetime(df_suzuki['Repub_date'])\n",
    "df_suzuki['Description'] = df_suzuki['Description'].astype(str)\n",
    "df_suzuki['Color'] = df_suzuki['Color'].astype(str)\n",
    "df_suzuki['Km'] = df_suzuki['Km'].astype('Int64')\n",
    "df_suzuki['Test'] = df_suzuki['Test'].astype('Int64')"
   ]
  },
  {
   "cell_type": "code",
   "execution_count": null,
   "id": "cdd0f7ff",
   "metadata": {},
   "outputs": [],
   "source": [
    "print(df_suzuki.dtypes)"
   ]
  },
  {
   "cell_type": "markdown",
   "id": "ba4d4ee4",
   "metadata": {},
   "source": [
    "## Export to a csv file"
   ]
  },
  {
   "cell_type": "code",
   "execution_count": null,
   "id": "58e11586",
   "metadata": {},
   "outputs": [],
   "source": [
    "file_path = 'C:/Users/jdhv7/OneDrive/מסמכים/חגי טפסים/כרייה וניתוח נתונים/מטלה 1.csv'\n",
    "df_suzuki.to_csv(file_path, index=False, encoding='utf-8-sig')"
   ]
  },
  {
   "cell_type": "markdown",
   "id": "4ab2b16b",
   "metadata": {},
   "source": [
    "## End"
   ]
  }
 ],
 "metadata": {
  "kernelspec": {
   "display_name": "Python 3 (ipykernel)",
   "language": "python",
   "name": "python3"
  },
  "language_info": {
   "codemirror_mode": {
    "name": "ipython",
    "version": 3
   },
   "file_extension": ".py",
   "mimetype": "text/x-python",
   "name": "python",
   "nbconvert_exporter": "python",
   "pygments_lexer": "ipython3",
   "version": "3.9.7"
  }
 },
 "nbformat": 4,
 "nbformat_minor": 5
}
